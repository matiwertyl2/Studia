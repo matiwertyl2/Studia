{
 "cells": [
  {
   "cell_type": "code",
   "execution_count": 3,
   "metadata": {},
   "outputs": [
    {
     "data": {
      "image/png": "[encoded data removed]",
      "text/plain": [
       "PyPlot.Figure(PyObject <matplotlib.figure.Figure object at 0x7f14abb9fd10>)"
      ]
     },
     "metadata": {},
     "output_type": "display_data"
    },
    {
     "name": "stderr",
     "output_type": "stream",
     "text": [
      "WARNING: using PyPlot.matplotlib in module Main conflicts with an existing identifier.\n"
     ]
    }
   ],
   "source": [
    "################################################################################\n",
    "# conway.py\n",
    "#\n",
    "# Author: electronut.in\n",
    "#\n",
    "# Description:\n",
    "#\n",
    "# A simple Python/matplotlib implementation of Conway's Game of Life.\n",
    "###############################################################################\n",
    "using PyCall\n",
    "using PyPlot\n",
    "\n",
    "#@pyimport matplotlib.pyplot as plt\n",
    "@pyimport matplotlib.animation as animation\n",
    "\n",
    "\n",
    "\n",
    "\n",
    "#%matplotlib inline\n",
    "#pygui(true)\n",
    "#pygui(:gtk)\n",
    "#pygui(false)\n",
    "#matplotlib.use['nbagg']\n",
    "\n",
    "#matplotlib.use('nbagg')\n",
    "\n",
    "N = 100\n",
    "ON = 255\n",
    "OFF = 0\n",
    "vals = [ON, OFF]\n",
    "\n",
    "function foo()\n",
    "    if rand(1:2) == 1\n",
    "        return ON\n",
    "    else\n",
    "        return OFF\n",
    "    end\n",
    "end\n",
    "\n",
    "# populate grid with random on/off - more off than on\n",
    "grid = fill(ON, (N, N))\n",
    "for i in 1:N\n",
    "    for j in 1:N\n",
    "        grid[i, j]=foo()\n",
    "    end\n",
    "end\n",
    "\n",
    "\n",
    "\n",
    "function update(data)\n",
    "\n",
    "  global grid\n",
    "  # copy grid since we require 8 neighbors for calculation\n",
    "  # and we go line by line\n",
    "  newGrid = copy(grid)\n",
    "  for i in 1:N\n",
    "    for j in 1:N\n",
    "      # compute 8-neghbor sum\n",
    "      # using toroidal boundary conditions - x and y wrap around\n",
    "      # so that the simulaton takes place on a toroidal surface.\n",
    "    #  total = (grid[i, (j-1)%N] + grid[i, (j+1)%N] +\n",
    "    #           grid[(i-1)%N, j] + grid[(i+1)%N, j] +\n",
    "    #           grid[(i-1)%N, (j-1)%N] + grid[(i-1)%N, (j+1)%N] +\n",
    "    #           grid[(i+1)%N, (j-1)%N] + grid[(i+1)%N, (j+1)%N])/255\n",
    "      total = rand(1:6)\n",
    "      # apply Conway's rules\n",
    "      if grid[i, j]  == ON\n",
    "        if (total < 2) || (total > 3)\n",
    "          newGrid[i, j] = OFF\n",
    "        end\n",
    "      else\n",
    "        if total == 3\n",
    "          newGrid[i, j] = ON\n",
    "        end\n",
    "      end\n",
    "    end\n",
    "  end\n",
    "  # update data\n",
    "  mat[:set_data](newGrid)\n",
    "  grid = newGrid\n",
    "  return [mat]\n",
    "end\n",
    "\n",
    "# set up animation\n",
    "fig, ax = PyPlot.subplots()\n",
    "mat = ax[:matshow](grid)\n",
    "ani = animation.FuncAnimation(fig, update, interval=50,\n",
    "                              save_count=50)\n",
    "PyPlot.show()\n",
    "\n"
   ]
  },
  {
   "cell_type": "code",
   "execution_count": null,
   "metadata": {},
   "outputs": [],
   "source": []
  },
  {
   "cell_type": "code",
   "execution_count": null,
   "metadata": {},
   "outputs": [],
   "source": []
  },
  {
   "cell_type": "code",
   "execution_count": null,
   "metadata": {},
   "outputs": [],
   "source": []
  },
  {
   "cell_type": "code",
   "execution_count": null,
   "metadata": {},
   "outputs": [],
   "source": []
  }
 ],
 "metadata": {
  "kernelspec": {
   "display_name": "Julia 0.6.1",
   "language": "julia",
   "name": "julia-0.6"
  },
  "language_info": {
   "file_extension": ".jl",
   "mimetype": "application/julia",
   "name": "julia",
   "version": "0.6.1"
  }
 },
 "nbformat": 4,
 "nbformat_minor": 2
}
