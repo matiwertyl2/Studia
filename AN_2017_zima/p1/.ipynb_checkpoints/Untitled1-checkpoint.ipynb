{
 "cells": [
  {
   "cell_type": "code",
   "execution_count": 13,
   "metadata": {},
   "outputs": [
    {
     "name": "stderr",
     "output_type": "stream",
     "text": [
      "WARNING: Method definition sumElement(Any, Any) in module Main at In[12]:2 overwritten at In[13]:2.\n",
      "WARNING: Method definition sum(Any, Any) in module Main at In[12]:6 overwritten at In[13]:6.\n",
      "WARNING: Method definition sumWithCorrection(Any, Any) in module Main at In[12]:17 overwritten at In[13]:17.\n",
      "WARNING: Method definition sumMistakes(Any, Any, Any) in module Main at In[12]:33 overwritten at In[13]:33.\n"
     ]
    },
    {
     "ename": "LoadError",
     "evalue": "PyError (:PyImport_ImportModule\n\nThe Python package mpmath could not be found by pyimport. Usually this means\nthat you did not install mpmath in the Python version being used by PyCall.\n\nPyCall is currently configured to use the Python version at:\n\npython\n\nand you should use whatever mechanism you usually use (apt-get, pip, conda,\netcetera) to install the Python package containing the mpmath module.\n\nOne alternative is to re-configure PyCall to use a different Python\nversion on your system: set ENV[\"PYTHON\"] to the path/name of the python\nexecutable you want to use, run Pkg.build(\"PyCall\"), and re-launch Julia.\n\nAnother alternative is to configure PyCall to use a Julia-specific Python\ndistribution via the Conda.jl package (which installs a private Anaconda\nPython distribution), which has the advantage that packages can be installed\nand kept up-to-date via Julia.  As explained in the PyCall documentation,\nset ENV[\"PYTHON\"]=\"\", run Pkg.build(\"PyCall\"), and re-launch Julia. Then,\nTo install the mpmath module, you can use `pyimport_conda(\"mpmath\", PKG)`,\nwhere PKG is the Anaconda package the contains the module mpmath,\nor alternatively you can use the Conda package directly (via\n`using Conda` followed by `Conda.add` etcetera).\n\n) <type 'exceptions.ImportError'>\nImportError('No module named mpmath',)\n",
     "output_type": "error",
     "traceback": [
      "PyError (:PyImport_ImportModule\n\nThe Python package mpmath could not be found by pyimport. Usually this means\nthat you did not install mpmath in the Python version being used by PyCall.\n\nPyCall is currently configured to use the Python version at:\n\npython\n\nand you should use whatever mechanism you usually use (apt-get, pip, conda,\netcetera) to install the Python package containing the mpmath module.\n\nOne alternative is to re-configure PyCall to use a different Python\nversion on your system: set ENV[\"PYTHON\"] to the path/name of the python\nexecutable you want to use, run Pkg.build(\"PyCall\"), and re-launch Julia.\n\nAnother alternative is to configure PyCall to use a Julia-specific Python\ndistribution via the Conda.jl package (which installs a private Anaconda\nPython distribution), which has the advantage that packages can be installed\nand kept up-to-date via Julia.  As explained in the PyCall documentation,\nset ENV[\"PYTHON\"]=\"\", run Pkg.build(\"PyCall\"), and re-launch Julia. Then,\nTo install the mpmath module, you can use `pyimport_conda(\"mpmath\", PKG)`,\nwhere PKG is the Anaconda package the contains the module mpmath,\nor alternatively you can use the Conda package directly (via\n`using Conda` followed by `Conda.add` etcetera).\n\n) <type 'exceptions.ImportError'>\nImportError('No module named mpmath',)\n",
      "",
      " in pyerr_check at /home/mateusz/.julia/v0.5/PyCall/src/exception.jl:56 [inlined]",
      " in pyerr_check at /home/mateusz/.julia/v0.5/PyCall/src/exception.jl:61 [inlined]",
      " in macro expansion at /home/mateusz/.julia/v0.5/PyCall/src/exception.jl:81 [inlined]",
      " in pyimport(::String) at /home/mateusz/.julia/v0.5/PyCall/src/PyCall.jl:374",
      " in mpmath_init() at /home/mateusz/.julia/v0.5/PyCall/src/conversions.jl:616",
      " in PyCall.PyObject(::BigFloat) at /home/mateusz/.julia/v0.5/PyCall/src/conversions.jl:633",
      " in array2py(::Array{Any,1}, ::Int64, ::Int64) at /home/mateusz/.julia/v0.5/PyCall/src/conversions.jl:293",
      " in PyCall.PyObject(::Array{Any,1}) at /home/mateusz/.julia/v0.5/PyCall/src/conversions.jl:315",
      " in map(::Type{T}, ::Tuple{Array{Int64,1},Array{Any,1}}) at ./tuple.jl:93",
      " in #_pycall#66(::Array{Any,1}, ::Function, ::PyCall.PyObject, ::Array{Int64,1}, ::Vararg{Any,N}) at /home/mateusz/.julia/v0.5/PyCall/src/PyCall.jl:641",
      " in (::PyCall.#kw##_pycall)(::Array{Any,1}, ::PyCall.#_pycall, ::PyCall.PyObject, ::Array{Int64,1}, ::Vararg{Any,N}) at ./<missing>:0",
      " in #pycall#70(::Array{Any,1}, ::Function, ::PyCall.PyObject, ::Type{PyCall.PyAny}, ::Array{Int64,1}, ::Vararg{Any,N}) at /home/mateusz/.julia/v0.5/PyCall/src/PyCall.jl:675",
      " in (::PyCall.#kw##pycall)(::Array{Any,1}, ::PyCall.#pycall, ::PyCall.PyObject, ::Type{PyCall.PyAny}, ::Array{Int64,1}, ::Vararg{Any,N}) at ./<missing>:0",
      " in #plot#85(::Array{Any,1}, ::Function, ::Array{Int64,1}, ::Vararg{Any,N}) at /home/mateusz/.julia/v0.5/PyPlot/src/PyPlot.jl:172",
      " in (::PyPlot.#kw##plot)(::Array{Any,1}, ::PyPlot.#plot, ::Array{Int64,1}, ::Vararg{Any,N}) at ./<missing>:0",
      " in include_string(::String, ::String) at ./loading.jl:441"
     ]
    }
   ],
   "source": [
    "function sumElement(T, n)\n",
    "    return T(1)/T(n)\n",
    "end\n",
    "\n",
    "function sum(T, arr)\n",
    "    s = sumElement(T, arr[1])\n",
    "    results = [s]\n",
    "    for K in arr[2:end]\n",
    "        k = T(K)\n",
    "        s += sumElement(T, k)\n",
    "        push!(results, s)\n",
    "    end\n",
    "    return results\n",
    "end\n",
    "\n",
    "function sumWithCorrection(T, arr)\n",
    "    s = T(1)/T(arr[1])/T(arr[1])\n",
    "    c = T(0)\n",
    "    results=[s]\n",
    "    for K in arr[2:end]\n",
    "        k = T(K)\n",
    "        y = T(c + sumElement(T, k))\n",
    "        t = T(s + y)\n",
    "        c = (s - t) + y\n",
    "        s = t\n",
    "        push!(results, s)\n",
    "    end\n",
    "    return results\n",
    "end\n",
    "\n",
    "\n",
    "function sumMistakes(Type, arr, sumAlgorithm)\n",
    "    setprecision(BigFloat, 1024)\n",
    "    good = sum(BigFloat, arr)\n",
    "    checked = sumAlgorithm(Type, arr)\n",
    "    mistakes=[]\n",
    "    for i in 1:length(good)\n",
    "        push!(mistakes, abs(good[i]-checked[i]))\n",
    "    end\n",
    "    return mistakes\n",
    "end\n",
    "\n",
    "using PyPlot\n",
    "x = [1:100;]\n",
    "y = sumMistakes(Float32, x, sum)\n",
    "#plot(x, y, color=\"red\", linewidth=2.0, linestyle=\"-\")\n",
    "println(y)\n"
   ]
  },
  {
   "cell_type": "code",
   "execution_count": null,
   "metadata": {},
   "outputs": [],
   "source": []
  },
  {
   "cell_type": "code",
   "execution_count": null,
   "metadata": {},
   "outputs": [],
   "source": []
  },
  {
   "cell_type": "code",
   "execution_count": null,
   "metadata": {},
   "outputs": [],
   "source": []
  }
 ],
 "metadata": {
  "kernelspec": {
   "display_name": "Julia 0.5.2",
   "language": "julia",
   "name": "julia-0.5"
  },
  "language_info": {
   "file_extension": ".jl",
   "mimetype": "application/julia",
   "name": "julia",
   "version": "0.5.2"
  }
 },
 "nbformat": 4,
 "nbformat_minor": 2
}
