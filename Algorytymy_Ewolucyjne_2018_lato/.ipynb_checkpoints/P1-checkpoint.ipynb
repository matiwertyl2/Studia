{
 "cells": [
  {
   "cell_type": "code",
   "execution_count": 1,
   "metadata": {},
   "outputs": [
    {
     "data": {
      "text/plain": [
       "4"
      ]
     },
     "execution_count": 1,
     "metadata": {},
     "output_type": "execute_result"
    }
   ],
   "source": [
    "2+2"
   ]
  },
  {
   "cell_type": "code",
   "execution_count": 2,
   "metadata": {},
   "outputs": [
    {
     "name": "stdout",
     "output_type": "stream",
     "text": [
      "3.14159265359\n"
     ]
    }
   ],
   "source": [
    "import math\n",
    "\n",
    "print math.fabs(math.pi)"
   ]
  },
  {
   "cell_type": "code",
   "execution_count": 3,
   "metadata": {},
   "outputs": [
    {
     "name": "stdout",
     "output_type": "stream",
     "text": [
      "[0, 1, 2, 3, 4, 1, 2, 3, 4, 5]\n",
      "[0, 1, 2, 3, 4, 1, 2, 3, 4, 5, 0, 1, 2, 3, 4, 1, 2, 3, 4, 5]\n"
     ]
    }
   ],
   "source": [
    "X = [0, 1, 2, 3, 4]\n",
    "Y = [1, 2, 3, 4, 5]\n",
    "Z = X + Y\n",
    "print Z\n",
    "print 2*Z"
   ]
  },
  {
   "cell_type": "code",
   "execution_count": 4,
   "metadata": {},
   "outputs": [],
   "source": [
    "import numpy as np"
   ]
  },
  {
   "cell_type": "code",
   "execution_count": 6,
   "metadata": {},
   "outputs": [
    {
     "name": "stdout",
     "output_type": "stream",
     "text": [
      "<type 'list'>\n",
      "<type 'int'>\n"
     ]
    }
   ],
   "source": [
    "X = [[1, 2, 3], [4, 5, 6]]\n",
    "print type(X)\n",
    "print type(X[0][0])"
   ]
  },
  {
   "cell_type": "code",
   "execution_count": 8,
   "metadata": {},
   "outputs": [
    {
     "name": "stdout",
     "output_type": "stream",
     "text": [
      "<type 'numpy.ndarray'>\n",
      "3.0\n"
     ]
    }
   ],
   "source": [
    "X = np.array([[1, 2, 3], [4, 5, 6]], dtype=np.float64)\n",
    "print type(X)\n",
    "print X[0, 2]"
   ]
  },
  {
   "cell_type": "code",
   "execution_count": 9,
   "metadata": {},
   "outputs": [
    {
     "data": {
      "text/plain": [
       "array([[  2.,   4.,   6.],\n",
       "       [  8.,  10.,  12.]])"
      ]
     },
     "execution_count": 9,
     "metadata": {},
     "output_type": "execute_result"
    }
   ],
   "source": [
    "X + X"
   ]
  },
  {
   "cell_type": "code",
   "execution_count": 10,
   "metadata": {},
   "outputs": [
    {
     "data": {
      "text/plain": [
       "array([[ 1.,  2.,  3.],\n",
       "       [ 4.,  5.,  6.]])"
      ]
     },
     "execution_count": 10,
     "metadata": {},
     "output_type": "execute_result"
    }
   ],
   "source": [
    "X"
   ]
  },
  {
   "cell_type": "code",
   "execution_count": 13,
   "metadata": {},
   "outputs": [
    {
     "name": "stdout",
     "output_type": "stream",
     "text": [
      "21.0\n",
      "[ 5.  7.  9.]\n",
      "[  6.  15.]\n",
      "3.5\n",
      "1.70782512766\n"
     ]
    }
   ],
   "source": [
    "print np.sum(X)\n",
    "print np.sum(X, axis=0)\n",
    "print np.sum(X, axis=1)\n",
    "print np.mean(X)\n",
    "print np.std(X)"
   ]
  },
  {
   "cell_type": "code",
   "execution_count": 17,
   "metadata": {},
   "outputs": [
    {
     "data": {
      "text/plain": [
       "array([[ 0.,  0.],\n",
       "       [ 0.,  0.],\n",
       "       [ 0.,  0.]])"
      ]
     },
     "execution_count": 17,
     "metadata": {},
     "output_type": "execute_result"
    }
   ],
   "source": [
    "np.zeros((3, 2))"
   ]
  },
  {
   "cell_type": "code",
   "execution_count": 18,
   "metadata": {},
   "outputs": [
    {
     "data": {
      "text/plain": [
       "array([[ 1.,  1.],\n",
       "       [ 1.,  1.]])"
      ]
     },
     "execution_count": 18,
     "metadata": {},
     "output_type": "execute_result"
    }
   ],
   "source": [
    "np.ones((2, 2))"
   ]
  },
  {
   "cell_type": "code",
   "execution_count": 19,
   "metadata": {},
   "outputs": [
    {
     "data": {
      "text/plain": [
       "array([[3, 3],\n",
       "       [3, 3]])"
      ]
     },
     "execution_count": 19,
     "metadata": {},
     "output_type": "execute_result"
    }
   ],
   "source": [
    "np.full((2, 2), 3)"
   ]
  },
  {
   "cell_type": "code",
   "execution_count": 20,
   "metadata": {},
   "outputs": [
    {
     "data": {
      "text/plain": [
       "array([[ 1.,  0.],\n",
       "       [ 0.,  1.]])"
      ]
     },
     "execution_count": 20,
     "metadata": {},
     "output_type": "execute_result"
    }
   ],
   "source": [
    "np.eye(2)"
   ]
  },
  {
   "cell_type": "code",
   "execution_count": 21,
   "metadata": {},
   "outputs": [
    {
     "data": {
      "text/plain": [
       "array([[ 0.64107741,  0.87133218,  0.42423249,  0.77393297],\n",
       "       [ 0.99322549,  0.07605597,  0.36482655,  0.06768554],\n",
       "       [ 0.22136101,  0.25913216,  0.45497994,  0.70940926],\n",
       "       [ 0.041963  ,  0.93453995,  0.37016422,  0.20519944]])"
      ]
     },
     "execution_count": 21,
     "metadata": {},
     "output_type": "execute_result"
    }
   ],
   "source": [
    "np.random.rand(4, 4)\n",
    "# rozklad jednostajny na 0 1"
   ]
  },
  {
   "cell_type": "code",
   "execution_count": 23,
   "metadata": {},
   "outputs": [
    {
     "data": {
      "text/plain": [
       "array([[ 0.64382873,  0.7711418 , -0.35519413, -1.1183055 ],\n",
       "       [-2.42572061,  1.94699353,  0.75230407, -0.95490227],\n",
       "       [-0.1494596 , -0.34814319,  0.61032912, -0.86735537],\n",
       "       [ 1.31646141, -0.1114869 ,  0.44351079,  0.20142916]])"
      ]
     },
     "execution_count": 23,
     "metadata": {},
     "output_type": "execute_result"
    }
   ],
   "source": [
    "X = np.random.randn(4, 4)\n",
    "X\n",
    "# liczby losowe z rokalzdu normalnego"
   ]
  },
  {
   "cell_type": "code",
   "execution_count": 26,
   "metadata": {},
   "outputs": [
    {
     "name": "stdout",
     "output_type": "stream",
     "text": [
      "[[ 0.64382873  0.7711418  -0.35519413 -1.1183055 ]\n",
      " [-2.42572061  1.94699353  0.75230407 -0.95490227]\n",
      " [-0.1494596  -0.34814319  0.61032912 -0.86735537]\n",
      " [ 1.31646141 -0.1114869   0.44351079  0.20142916]]\n",
      "[[ 0.64382873  0.7711418  -0.35519413 -1.1183055 ]\n",
      " [-2.42572061  1.94699353  0.75230407 -0.95490227]]\n",
      "[[ 1.         -1.1183055 ]\n",
      " [ 0.75230407 -0.95490227]]\n",
      "[[ 0.64382873  0.7711418  -0.35519413 -1.1183055 ]\n",
      " [-2.42572061  1.94699353  0.75230407 -0.95490227]\n",
      " [-0.1494596  -0.34814319  0.61032912 -0.86735537]\n",
      " [ 1.31646141 -0.1114869   0.44351079  0.20142916]]\n"
     ]
    }
   ],
   "source": [
    "Y = X[:, :]\n",
    "print Y\n",
    "\n",
    "Y = X[:2, :]\n",
    "print Y\n",
    "\n",
    "Y = X[:2, 2:].copy()\n",
    "\n",
    "Y[0, 0] = 1\n",
    "print Y\n",
    "print X"
   ]
  },
  {
   "cell_type": "code",
   "execution_count": 27,
   "metadata": {},
   "outputs": [
    {
     "data": {
      "text/plain": [
       "array([[ 1.31646141, -0.1114869 ,  0.44351079,  0.20142916],\n",
       "       [-0.1494596 , -0.34814319,  0.61032912, -0.86735537]])"
      ]
     },
     "execution_count": 27,
     "metadata": {},
     "output_type": "execute_result"
    }
   ],
   "source": [
    "X[[3, 2], :]"
   ]
  },
  {
   "cell_type": "code",
   "execution_count": 29,
   "metadata": {},
   "outputs": [
    {
     "name": "stdout",
     "output_type": "stream",
     "text": [
      "[1 2]\n",
      "[[3]\n",
      " [4]]\n",
      "[[4 5]\n",
      " [5 6]]\n"
     ]
    }
   ],
   "source": [
    "A = np.array([1, 2])\n",
    "B = np.array([[3], [4]])\n",
    "print A\n",
    "print B\n",
    "print A + B"
   ]
  },
  {
   "cell_type": "code",
   "execution_count": 36,
   "metadata": {},
   "outputs": [
    {
     "name": "stdout",
     "output_type": "stream",
     "text": [
      "(2,)\n",
      "(2, 1)\n",
      "[1 2]\n",
      "[[3 4]]\n",
      "[[1 2]]\n"
     ]
    }
   ],
   "source": [
    "print A.shape\n",
    "print B.shape\n",
    "print A.T\n",
    "print B.T\n",
    "print A[np.newaxis]"
   ]
  },
  {
   "cell_type": "code",
   "execution_count": 37,
   "metadata": {},
   "outputs": [
    {
     "name": "stdout",
     "output_type": "stream",
     "text": [
      "[1 2 1 2]\n"
     ]
    }
   ],
   "source": [
    "print np.hstack([A, A])"
   ]
  },
  {
   "cell_type": "code",
   "execution_count": 38,
   "metadata": {},
   "outputs": [
    {
     "name": "stdout",
     "output_type": "stream",
     "text": [
      "[[1 2]\n",
      " [1 2]]\n"
     ]
    }
   ],
   "source": [
    "print np.vstack([A, A])"
   ]
  },
  {
   "cell_type": "code",
   "execution_count": 39,
   "metadata": {},
   "outputs": [
    {
     "name": "stdout",
     "output_type": "stream",
     "text": [
      "[[ 1.  2.  1.  6.  3.  3.  5.  3.  7.  7.]\n",
      " [ 7.  5.  3.  1.  4.  3.  8.  7.  6.  9.]\n",
      " [ 0.  5.  3.  6.  7.  6.  9.  2.  4.  1.]\n",
      " [ 7.  2.  6.  8.  5.  9.  1.  0.  7.  1.]\n",
      " [ 9.  8.  9.  5.  8.  7.  7.  0.  0.  8.]\n",
      " [ 9.  6.  8.  7.  6.  7.  3.  1.  7.  8.]\n",
      " [ 1.  6.  5.  3.  1.  6.  3.  6.  1.  1.]\n",
      " [ 5.  6.  6.  5.  6.  8.  5.  2.  0.  3.]\n",
      " [ 3.  2.  3.  0.  8.  7.  0.  0.  4.  4.]\n",
      " [ 4.  5.  0.  5.  0.  9.  5.  9.  1.  2.]]\n"
     ]
    }
   ],
   "source": [
    "B = np.floor(np.random.rand(10, 10)*10)\n",
    "print B"
   ]
  },
  {
   "cell_type": "code",
   "execution_count": 40,
   "metadata": {},
   "outputs": [
    {
     "data": {
      "text/plain": [
       "array([[ 1.,  2.,  1.,  6.,  3.],\n",
       "       [ 3.,  5.,  3.,  7.,  7.],\n",
       "       [ 7.,  5.,  3.,  1.,  4.],\n",
       "       [ 3.,  8.,  7.,  6.,  9.],\n",
       "       [ 0.,  5.,  3.,  6.,  7.],\n",
       "       [ 6.,  9.,  2.,  4.,  1.],\n",
       "       [ 7.,  2.,  6.,  8.,  5.],\n",
       "       [ 9.,  1.,  0.,  7.,  1.],\n",
       "       [ 9.,  8.,  9.,  5.,  8.],\n",
       "       [ 7.,  7.,  0.,  0.,  8.],\n",
       "       [ 9.,  6.,  8.,  7.,  6.],\n",
       "       [ 7.,  3.,  1.,  7.,  8.],\n",
       "       [ 1.,  6.,  5.,  3.,  1.],\n",
       "       [ 6.,  3.,  6.,  1.,  1.],\n",
       "       [ 5.,  6.,  6.,  5.,  6.],\n",
       "       [ 8.,  5.,  2.,  0.,  3.],\n",
       "       [ 3.,  2.,  3.,  0.,  8.],\n",
       "       [ 7.,  0.,  0.,  4.,  4.],\n",
       "       [ 4.,  5.,  0.,  5.,  0.],\n",
       "       [ 9.,  5.,  9.,  1.,  2.]])"
      ]
     },
     "execution_count": 40,
     "metadata": {},
     "output_type": "execute_result"
    }
   ],
   "source": [
    "B.reshape(20, 5)"
   ]
  },
  {
   "cell_type": "code",
   "execution_count": 44,
   "metadata": {},
   "outputs": [
    {
     "name": "stdout",
     "output_type": "stream",
     "text": [
      "[[1 2 3]\n",
      " [1 5 9]]\n",
      "[[2 4 6]\n",
      " [0 4 8]]\n"
     ]
    }
   ],
   "source": [
    "X = np.array([[1, 2, 3], [1, 5, 9]])\n",
    "Y = np.array([[2, 4, 6], [0, 4, 8]])\n",
    "print X\n",
    "print Y"
   ]
  },
  {
   "cell_type": "code",
   "execution_count": 47,
   "metadata": {},
   "outputs": [
    {
     "name": "stdout",
     "output_type": "stream",
     "text": [
      "[2 5]\n",
      "[-4 -3]\n",
      "25\n"
     ]
    }
   ],
   "source": [
    "i = 1\n",
    "j = 2\n",
    "print X[:, i]\n",
    "print (X[:, i] - Y[:, j])\n",
    "print np.sum( (X[:, i] - Y[:, j]) ** 2, axis=0)"
   ]
  },
  {
   "cell_type": "code",
   "execution_count": null,
   "metadata": {},
   "outputs": [],
   "source": [
    "import time\n",
    "X = np.random.random((4, 500))\n",
    "Y = np.random.random((4, 500))\n",
    "N = X.shape[1]\n",
    "M = Y.shape[1]\n",
    "    "
   ]
  },
  {
   "cell_type": "code",
   "execution_count": null,
   "metadata": {},
   "outputs": [],
   "source": []
  }
 ],
 "metadata": {
  "kernelspec": {
   "display_name": "Python 2",
   "language": "python",
   "name": "python2"
  },
  "language_info": {
   "codemirror_mode": {
    "name": "ipython",
    "version": 2
   },
   "file_extension": ".py",
   "mimetype": "text/x-python",
   "name": "python",
   "nbconvert_exporter": "python",
   "pygments_lexer": "ipython2",
   "version": "2.7.12"
  }
 },
 "nbformat": 4,
 "nbformat_minor": 2
}
