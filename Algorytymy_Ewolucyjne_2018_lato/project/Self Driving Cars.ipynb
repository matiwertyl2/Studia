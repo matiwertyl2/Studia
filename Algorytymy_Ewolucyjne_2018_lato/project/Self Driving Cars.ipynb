{
 "cells": [
  {
   "cell_type": "markdown",
   "metadata": {},
   "source": [
    "# Projekt \"Self driving cars\"\n",
    "## Algorytmy Ewolucyjne 2017/2018\n",
    "### Prowadzący: Piotr Lipiński\n",
    "### Autor: Mateusz Hazy"
   ]
  },
  {
   "cell_type": "markdown",
   "metadata": {},
   "source": [
    "## Opis projektu"
   ]
  },
  {
   "cell_type": "markdown",
   "metadata": {},
   "source": [
    "Celem projektu \"self driving cars\" było stworzenie modelu systemu sterowania autem podejmującego decyzje na podstawie informacji, które prawdziwe auto mogłoby dostarczać w rzeczywistości. \n",
    "W uproszczonym modelu przyjęto, że auto posiada 5 czujników umieszczonych na przedniej masce pod różnymi kątami, które podają odległość do najbliższej przeszkody. Samo auto jest prostokątem o zadanych wymiarach, a jego ruch jest ograniczony przez maksymalną prędkość, przyspieszenie/hamowanie, zakres skrętu. Nie są jednak brane pod uwagę tarcie i inne własności fizyczne. Niemniej jednak model dobrze obrazuje reagowanie auta na napotykane przeszkody i dostosowywanie się do kształtu trasy."
   ]
  },
  {
   "cell_type": "markdown",
   "metadata": {},
   "source": [
    "## Środowisko i symulacja"
   ]
  },
  {
   "cell_type": "markdown",
   "metadata": {},
   "source": [
    "Ruch auta symulowany jest na płaszczyźnie na podstawie aktualnej prędkości i położenia jako liniowy w małym odstępie czasu.\n",
    "\n",
    "$$ X, Y \\text{- położenie auta} $$\n",
    "$$ V \\text{-  prędkość, } \\Delta V \\text{- przyspieszenie, }$$\n",
    "$$ \\alpha \\text{- odchylenie auta od poziomej prostej} , \\Delta \\alpha \\text{- zmiana kąta}  $$\n",
    "\n",
    "$$ \\alpha(t +  \\Delta t ) = \\alpha(t) + \\Delta \\alpha(t + \\Delta t) $$\n",
    "$$ V(t + \\Delta t) =  V(t) +  \\Delta V(t+  \\Delta t) $$\n",
    "$$ X(t + \\Delta  t) = X(t)  + \\Delta t \\cdot V(t +  \\Delta t) \\cdot \\cos{ \\alpha(t + \\Delta t)} $$\n",
    "$$ Y(t + \\Delta  t) = Y(t)  + \\Delta t \\cdot V(t +  \\Delta t) \\cdot \\sin{ \\alpha(t + \\Delta t)} $$\n",
    "\n",
    "Jak widać, system sterowania autem musi podjąć decyzję o wartościach $ \\Delta V $ oraz $ \\Delta \\alpha $ w każdej chwili $t$"
   ]
  },
  {
   "cell_type": "markdown",
   "metadata": {},
   "source": [
    "Trasa, po której porusza się auto jest ograniczona łamanymi. Cały ruch odbywa się w dwóch wymiarach."
   ]
  },
  {
   "cell_type": "markdown",
   "metadata": {},
   "source": [
    "## System sterowania"
   ]
  },
  {
   "cell_type": "markdown",
   "metadata": {},
   "source": [
    "Za podejmowanie decyzji dotyczących sterowania auta będzie odpowiedzialna pewna sieć neuronowa, biorąca na wejście odległości od przeszkód poszczególnych czujników oraz akualną prędkość auta. Na wyjście zostaną zwrócone, odpowiednio przeskalowane wartości $ \\Delta V $ oraz $ \\Delta \\alpha$.\n",
    "\n",
    "Należy tu jednak zaznaczyć, że przez sieć neuronową można rozumieć nie tylko tradycyjną sieć o regularnej budowie (każdy wierzchołek i-tej warstwy jest połączony z każdym z i+1-szej), ale też dowolny skierowany graf acykliczny o tej wlasności, że pierwsze k wierzchołków (wierzchołki wejściowe, w tym przypadku 6) ma stopień wejściowy równy 0, a ostatnie l ( wierzchołki wyjściowe, tutaj 2) mają stopień wyjściowy równy 0. "
   ]
  },
  {
   "cell_type": "markdown",
   "metadata": {},
   "source": [
    "## Regularne sieci neuronowe "
   ]
  },
  {
   "cell_type": "markdown",
   "metadata": {},
   "source": [
    "Zajmiemy się rozwojem systemu sterującego opartego o regularną sieć neuronową:\n",
    "- Ustalona liczba warstw\n",
    "- W każdej warstwie ustalona liczba wierzchołków\n",
    "- Każdy wierzchołek z i-tej warstwy jest połączony z każdym wierzchołkiem z i+1-szej\n",
    "- W każdym wierzchołku v obliczamy wartość biorąc kombinację liniową (X) wartości z wierzchołków wchodzących (u) do v ze wsþółczynnikami będacymi wagami odpowiednich krawędzi (u, v). Wartością w wierzchołku v będzie $ \\tanh{X}$. "
   ]
  },
  {
   "cell_type": "markdown",
   "metadata": {},
   "source": [
    "Będziemy znajdować optymalne wagi na krawędziach dla ustalonej struktury sieci neuronowej. Wykorzystamy do tego strategie ewolucyjne $ ES ( \\mu + \\lambda) $ "
   ]
  },
  {
   "cell_type": "markdown",
   "metadata": {},
   "source": [
    "Dobieranie struktury sieci oraz parametry algorytmu $ES(\\mu + \\lambda)$ będzie empiryczne. Pozostaje odpowiednio zdefiniować funkcję celu.\n",
    "- Należy znaleźć zestaw danych do uczenia - niech będzie to $n$ losowych torów - $T_i$\n",
    "- Dla każdego toru wprowadzimy limit czasu na jego pokonanie - $t_i$\n",
    "- $ D(T_i)$ długość toru $T_i$\n",
    "- $D(T_i, N)$ długość pokonana prez auto sterowane siecią $N$ na torze $T_i$\n",
    "- $T(T_i, N)$ czas w jakim auto sterowane siecią $N$ pokonało tor $T_i$\n",
    "\n",
    "Określmy funkcję celu $Fitness_i$ jako fragment toru $T_i$ pokonany przez auto sterowane daną siecią:\n",
    "$$ Fitness_i(N) = \\frac{ D(T_i, N)}{D(T_i)}  $$"
   ]
  },
  {
   "cell_type": "markdown",
   "metadata": {},
   "source": [
    "Warto uwzględnić, czy auto się rozbiło, zabrakło mu czasu na pokonanie trasy, bądź pokonało trasę przed czasem. Dlatego funkcję celu jako:\n",
    "$$ Fitness(N) = \\frac{1}{n} \\sum_{i=1}^{n} Fitness_i(N) \\cdot C(N, T_i) $$ \n",
    "gdzie\n",
    "$$ C(N, T_i) = \n",
    "\\begin{cases}\n",
    "                0.8 \\text{, gdy auto sterowane przez N rozbiło sie na torze T_i.} \\\\\n",
    "                1 + \\frac{t_i - T(T_i, N)}{2 \\cdot t_i} \\text{, gdy auto sterowane przez N pokonało tor T_i przed czasem.} \\\\\n",
    "                1 \\text{, w p. p.}\\\\\n",
    "\\end{cases}$$"
   ]
  },
  {
   "cell_type": "markdown",
   "metadata": {},
   "source": [
    "## Testy"
   ]
  },
  {
   "cell_type": "markdown",
   "metadata": {},
   "source": [
    "Można się spodziewać, że wyewoluowane sieci będą dobrze radziły sobie na torach z zestawu testowego, jednak nie wiadomo, czy taki system nauczył się jeździć po torach czy jeździć po torach z zestawu testowego. Dlatego najlepszy system po zakończeniu algorytmu będziemy testować na pewnych torach \"benchmarkowych\"."
   ]
  },
  {
   "cell_type": "markdown",
   "metadata": {},
   "source": [
    "Animacje prezentujące proces ewolucji pokazują 5 najlepszych systemów z pokoleń, w których nastąpiła wyraźna poprawa wartości funkcji $Fitness$"
   ]
  },
  {
   "cell_type": "markdown",
   "metadata": {},
   "source": [
    "Grafiki prezentujące wygląd sieci należy interpretować następująco:\n",
    "- kolor krawędzi oznacza znak (niebieski - ujemny, czerwony - dodatni) \n",
    "- grubość krawędzi oznacza wielkość wagi\n",
    "- Najniższy wierzchołek pierwszej warstwy to prędkość auta, pozostałe - wartości z czujników\n",
    "- Górny wierzchołek ostatniej warstwy to $\\Delta V$, dolny - $\\Delta \\alpha$"
   ]
  },
  {
   "cell_type": "markdown",
   "metadata": {},
   "source": [
    "### Struktura sieci (6, 8, 4, 2), populacja 50, 100 iteracji"
   ]
  },
  {
   "cell_type": "markdown",
   "metadata": {},
   "source": [
    "#### Nauczanie"
   ]
  },
  {
   "cell_type": "markdown",
   "metadata": {},
   "source": [
    "<center><video controls width=\"900\" height=\"500\" src=\"images/sim1/LEARNING.mp4\" /></center>"
   ]
  },
  {
   "cell_type": "markdown",
   "metadata": {},
   "source": [
    "<center><img width=\"600\" height=\"400\" src=\"images/sim1/results.png\" /></center>"
   ]
  },
  {
   "cell_type": "markdown",
   "metadata": {},
   "source": [
    "#### Najlepsza sieć"
   ]
  },
  {
   "cell_type": "markdown",
   "metadata": {},
   "source": [
    "<center><img width=\"600\" height=\"400\" src=\"images/sim1/brain.png\" /></center>"
   ]
  },
  {
   "cell_type": "markdown",
   "metadata": {},
   "source": [
    "#### Benchmarki"
   ]
  },
  {
   "cell_type": "markdown",
   "metadata": {},
   "source": [
    "<center><video controls width=\"900\" height=\"500\" src=\"images/sim1/BENCHMARKS.mp4\" /></center>"
   ]
  },
  {
   "cell_type": "markdown",
   "metadata": {},
   "source": [
    "### Struktura sieci (6, 8, 2), populacja 50, 100 iteracji"
   ]
  },
  {
   "cell_type": "markdown",
   "metadata": {},
   "source": [
    "#### Nauczanie"
   ]
  },
  {
   "cell_type": "markdown",
   "metadata": {},
   "source": [
    "<center><video controls width=\"900\" height=\"500\" src=\"images/sim2/LEARNING.mp4\" /></center>"
   ]
  },
  {
   "cell_type": "markdown",
   "metadata": {},
   "source": [
    "<center><img width=\"600\" height=\"400\" src=\"images/sim2/results.png\" /></center>"
   ]
  },
  {
   "cell_type": "markdown",
   "metadata": {},
   "source": [
    "#### Najlepsza sieć"
   ]
  },
  {
   "cell_type": "markdown",
   "metadata": {},
   "source": [
    "<center><img width=\"600\" height=\"400\" src=\"images/sim2/brain.png\" /></center>"
   ]
  },
  {
   "cell_type": "markdown",
   "metadata": {},
   "source": [
    "#### Benchmarki"
   ]
  },
  {
   "cell_type": "markdown",
   "metadata": {},
   "source": [
    "<center><video controls width=\"900\" height=\"500\" src=\"images/sim2/BENCHMARKS.mp4\" /></center>"
   ]
  },
  {
   "cell_type": "markdown",
   "metadata": {},
   "source": [
    "## Skierowane grafy acykliczne"
   ]
  },
  {
   "cell_type": "markdown",
   "metadata": {},
   "source": [
    "Wadą poprzedniego rozwiązania było to, że z góry ustalana była struktura sieci neuronowej. Co prawda te regularne struktury są najczęściej stosowaną i najlepiej sprawdzoną prostą metodą stosowana w tego typu problemach. Jednak skąd właściwie wiadomo, jaka powinna być optymalna liczba warstw i liczba wierzchołków w każdej z nich? Dlatego warto spróbować stworzyć algorytm znajdujący optymalną sieć w znacznie poszerzonej przestrzeni poszukiwań: zmienne będą nie tylko wagi na krawędziach, ale też cała struktura sieci. Jedynym ograniczeniem będzie maksymalna liczba wierzchołków w sieci i to, że musi tworzyć skierowany graf acykliczny. Będziemy je nazywać sieciami DAG."
   ]
  },
  {
   "cell_type": "markdown",
   "metadata": {},
   "source": [
    "Obliczanie wartości w wierzchołkach sieci będzie oparte na tej samej zasadzie co w regularnej sieci neuronowej. Warto jednak zwrócić uwagę, że aby poprawnie wyliczyć wszystkie wartości należy rozpatrywać wierzchołki w kolejności topologicznej."
   ]
  },
  {
   "cell_type": "markdown",
   "metadata": {},
   "source": [
    "### Krzyżowanie grafów"
   ]
  },
  {
   "cell_type": "markdown",
   "metadata": {},
   "source": [
    "Mając ograniczenie na liczbę wierzchołków w sieci (V), strukturę grafu można pamiętać jako macierz sąsiedztwa o wymiarach V x V. Będziemy chcieli krzyżować takie macierze analogicznie do tego jak krzyżowane są wektory w operatorze krzyżowania jednopunktowego."
   ]
  },
  {
   "cell_type": "markdown",
   "metadata": {},
   "source": [
    "Wybierzmy punkt cięcia $ c \\in [0, n] $\n",
    "- Pierwsze c wierszy pierwszego rodzica dajemy do pierwszego potomka, pozostałe wiersze do drugiego.\n",
    "- Analogicznie postępujemy z drugim rodzicem, tym samym tworząc dwóch potomków z dwóch rodziców."
   ]
  },
  {
   "cell_type": "markdown",
   "metadata": {},
   "source": [
    "### Krzyżowanie wag"
   ]
  },
  {
   "cell_type": "markdown",
   "metadata": {},
   "source": [
    "Z uwagi na znacznie większą przestrzeń poszukiwań w porównaniu do poprzedniego przypadku, postanowiłem wzbogacić algorytm o operator krzyżowania wag. Użyłem operatora SBX służacego do krzyżowania genów o wartościach rzeczywistych opisanego w poniższym artykule: \n",
    " - http://wpmedia.wolfram.com/uploads/sites/13/2018/02/09-2-2.pdf\n",
    " - https://www.slideshare.net/paskorn/simulated-binary-crossover-presentation?type=powerpoint"
   ]
  },
  {
   "cell_type": "markdown",
   "metadata": {},
   "source": [
    "### Mutacje"
   ]
  },
  {
   "cell_type": "markdown",
   "metadata": {},
   "source": [
    "Główną ideą algorytmu dalej ma być $ES(\\mu + \\lambda)$. Należy więc mutować nie tylko wagi, ale również sama strukturę. Z powodu dość małych populacji używanych w algorytmie postanowiłem uprościć strategię ewolucyjną. Mianowicie, zamiast osobnej wartości odpowiedzialnej za wielkość mutacji dla każdego genu, osobnik będzie posiadać 2 wartości:\n",
    " - $ \\sigma $ - wartość odpowiedzialna za mutacje wag \n",
    " - $ \\rho $ - wartość odpowiedzialna za mutacje krawędzi\n",
    " \n",
    "Mutacja wag odbywa sie tak samo jak w zwykłym algorytmie ES. Jednak krawędzie przyjmują wartości 0 lub 1. Dlatego wartość $\\rho$ określa nie wielkość mutacji, ale jej prawdopodobieństwo. Podobnie jak $\\sigma$, jest ona zmieniana w mutacji. Ideą jest to, że osobniki posiadające dobrą strukturę sieci będa miały małą wartość $\\rho$ aby nie zmienić na gorszą i odwrotnie."
   ]
  },
  {
   "cell_type": "markdown",
   "metadata": {},
   "source": [
    "Istotny będzie wybór początkowych wartości $\\rho$. Przyjąłem, że bezpieczną będzie $\\rho = \\frac{1}{V}$"
   ]
  },
  {
   "cell_type": "markdown",
   "metadata": {},
   "source": [
    "## Testy"
   ]
  },
  {
   "cell_type": "markdown",
   "metadata": {},
   "source": [
    "Grafiki reprezentujące sieci zostały nieco zmodyfikowane:\n",
    "- Zielony wierzchołek reprezentuje $ \\Delta \\alpha $, a różowy - $ \\Delta V$ \n",
    "- Fioletowe wierzchołki reprezentują wierzchołki wejściowe\n",
    "\n",
    "Stuktury sieci prezentowane w animacje pokazują sieci, które były najlepsze przez pewien okres ewolucji.\n",
    "\n",
    "Z uwagi na znacznie większą przestrzeń poszukiwań, wielkość populacji w testowaniu algorytmu jest większa niż w przypadku regularnych sieci."
   ]
  },
  {
   "cell_type": "markdown",
   "metadata": {},
   "source": [
    "### Sieć złożona z 22 wierzchołków, populacja 100, 100 iteracji, próba nr 1"
   ]
  },
  {
   "cell_type": "markdown",
   "metadata": {},
   "source": [
    "#### Nauczanie"
   ]
  },
  {
   "cell_type": "markdown",
   "metadata": {},
   "source": [
    "<center><video controls width=\"900\" height=\"500\" src=\"images/simdag1/LEARNING.mp4\" /></center>"
   ]
  },
  {
   "cell_type": "markdown",
   "metadata": {},
   "source": [
    "<center><img width=\"600\" height=\"400\" src=\"images/simdag1/results.png\" /></center>"
   ]
  },
  {
   "cell_type": "markdown",
   "metadata": {},
   "source": [
    "#### Najlepsza sieć"
   ]
  },
  {
   "cell_type": "markdown",
   "metadata": {},
   "source": [
    "<center><video controls width=\"600\" height=\"400\" src=\"images/simdag1/BRAINS.mp4\" /></center>"
   ]
  },
  {
   "cell_type": "markdown",
   "metadata": {},
   "source": [
    "#### Benchmarki"
   ]
  },
  {
   "cell_type": "markdown",
   "metadata": {},
   "source": [
    "<center><video controls width=\"900\" height=\"500\" src=\"images/simdag1/BENCHMARKS.mp4\" /></center>"
   ]
  },
  {
   "cell_type": "markdown",
   "metadata": {},
   "source": [
    "### Sieć złożona z 22 wierzchołków, populacja 100, 100 iteracji, próba nr 2"
   ]
  },
  {
   "cell_type": "markdown",
   "metadata": {},
   "source": [
    "#### Nauczanie"
   ]
  },
  {
   "cell_type": "markdown",
   "metadata": {},
   "source": [
    "<center><video controls width=\"900\" height=\"500\" src=\"images/simdag2/LEARNING.mp4\" /></center>"
   ]
  },
  {
   "cell_type": "markdown",
   "metadata": {},
   "source": [
    "<center><img width=\"600\" height=\"400\" src=\"images/simdag2/results.png\" /></center>"
   ]
  },
  {
   "cell_type": "markdown",
   "metadata": {},
   "source": [
    "#### Najlepsza sieć"
   ]
  },
  {
   "cell_type": "markdown",
   "metadata": {},
   "source": [
    "<center><video controls width=\"600\" height=\"400\" src=\"images/simdag2/BRAINS.mp4\" /></center>"
   ]
  },
  {
   "cell_type": "markdown",
   "metadata": {},
   "source": [
    "#### Benchmarki"
   ]
  },
  {
   "cell_type": "markdown",
   "metadata": {},
   "source": [
    "<center><video controls width=\"900\" height=\"500\" src=\"images/simdag2/BENCHMARKS.mp4\" /></center>"
   ]
  },
  {
   "cell_type": "markdown",
   "metadata": {},
   "source": [
    "## Porównanie metod"
   ]
  },
  {
   "cell_type": "markdown",
   "metadata": {},
   "source": [
    "Eksperyment można uznać za udany, jednak wystąpiło kilka ciekawych zjawisk:\n",
    "- Auta bardzo płynnie poruszają się po torach z zestawu uczącego, jednak w przypadku obu sieci jazda aut na prostych benchmarkach jest chaotyczna.\n",
    "- W przypadku regularnych sieci, jazda auta sterowanego przez sieć złożoną z większej liczby warstw jest bardziej stabilna\n",
    "- W przypadku sieci DAG, uzyskane sieci są istotnie różne w różnych wywołaniach algorytmu z tymi samymi parametrami.\n",
    "- W sieciach DAG algorytm z początku często zmienia strukturę grafu, jednak pod koniec następują jedynie drobne modyfikacje (dodanie lub usunięcie kilku krawędzi). Dobrze widać to w przypadku próby nr 1.\n",
    "- Trudno stwierdzić, która z metod jest skuteczniejsza. Biorąc pod uwagę czas obliczeń, pierwsza metoda jest skuteczniejsza. Jednak przy dużej mocy obliczeniowej, można uczyć auta na znacznie większym zestawie danych i większej populacji. Wtedy sieci DAG mogą okazać się lepsze, ze względu na ich większą ogólność.\n",
    "- W przypadku obliczeń z populacją wielkości 50-100 obie metody są porównywalnie skuteczne."
   ]
  },
  {
   "cell_type": "markdown",
   "metadata": {},
   "source": [
    "## Dalszy rozwój"
   ]
  },
  {
   "cell_type": "markdown",
   "metadata": {},
   "source": [
    "- Wadą obu rozwiązań jest to, że systemy nie mogą się uczyć na nowych torach. Dobrym pomysłem byłoby zmodyfikowanie sieci tak, by mogła się uczyć na nowych torach nie tracąc umiejętności jazdy na poprzednich.\n",
    "- Symulacja jazdy jest mocno uproszczona, warto sprawdzić, czy w bardziej realistycznym modelu metody będą dalej działać."
   ]
  },
  {
   "cell_type": "code",
   "execution_count": null,
   "metadata": {},
   "outputs": [],
   "source": []
  }
 ],
 "metadata": {
  "kernelspec": {
   "display_name": "Python 2",
   "language": "python",
   "name": "python2"
  },
  "language_info": {
   "codemirror_mode": {
    "name": "ipython",
    "version": 2
   },
   "file_extension": ".py",
   "mimetype": "text/x-python",
   "name": "python",
   "nbconvert_exporter": "python",
   "pygments_lexer": "ipython2",
   "version": "2.7.12"
  }
 },
 "nbformat": 4,
 "nbformat_minor": 2
}
