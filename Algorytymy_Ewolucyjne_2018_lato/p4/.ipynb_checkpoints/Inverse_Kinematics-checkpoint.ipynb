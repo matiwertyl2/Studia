{
 "cells": [
  {
   "cell_type": "markdown",
   "metadata": {},
   "source": [
    "# Solving normal and modified instances of inverse kinematics problem with evolution strategies"
   ]
  },
  {
   "cell_type": "markdown",
   "metadata": {},
   "source": [
    "Inverse kinematics problem is defined by:\n",
    "    - lengths of arms\n",
    "    - ranges of angles each arm can bend\n",
    "    - point the arm wants to reach\n",
    "   \n",
    "The aim is to find the angles that arms should bend to get to the point as close as possible\n",
    "\n",
    "The problem can be extended by adding obstacles, or making arm tree-like structure"
   ]
  },
  {
   "cell_type": "markdown",
   "metadata": {},
   "source": [
    "## Normal instances"
   ]
  },
  {
   "cell_type": "markdown",
   "metadata": {},
   "source": [
    "population_size = 50\n",
    "number_of_offsprings = 100\n",
    "d = 15\n",
    "iters = 60\n",
    "sigma = 0.5\n",
    "<center><video controls width=\"800\" height=\"400\" src=\"normal/example0/kinematics.mp4\" /></center>\n",
    "<img width =\"600\" height=\"300\" src=\"normal/example0/results.png\">\n",
    "<img width=\"600\" height=\"300\" src=\"normal/example0/sigmas.png\">"
   ]
  },
  {
   "cell_type": "markdown",
   "metadata": {},
   "source": [
    "population_size = 50\n",
    "number_of_offsprings = 100\n",
    "d = 30\n",
    "iters = 60\n",
    "sigma = 0.5\n",
    "<center><video controls width=\"800\" height=\"400\" src=\"normal/example1/kinematics.mp4\" /></center>\n",
    "<img width =\"600\" height=\"300\" src=\"normal/example1/results.png\">\n",
    "<img width=\"600\" height=\"300\" src=\"normal/example1/sigmas.png\">"
   ]
  },
  {
   "cell_type": "markdown",
   "metadata": {},
   "source": [
    "population_size = 100\n",
    "number_of_offsprings = 150\n",
    "iters = 100\n",
    "d = 50\n",
    "sigma = 0.5\n",
    "<center><video controls width=\"800\" height=\"400\" src=\"normal/example2/kinematics.mp4\" /></center>\n",
    "<img width =\"600\" height=\"300\" src=\"normal/example2/results.png\">\n",
    "<img width=\"600\" height=\"300\" src=\"normal/example2/sigmas.png\">"
   ]
  },
  {
   "cell_type": "markdown",
   "metadata": {},
   "source": [
    "## Obstacles"
   ]
  },
  {
   "cell_type": "markdown",
   "metadata": {},
   "source": [
    "population_size = 100\n",
    "number_of_offsprings = 150\n",
    "d = 5\n",
    "iters = 20\n",
    "sigma = 0.5\n",
    "number_of_obstacles=15\n",
    "<center><video controls width=\"800\" height=\"400\" src=\"obstacles/example0/obstacle_kinematics.mp4\" /></center>\n",
    "<img width =\"600\" height=\"300\" src=\"obstacles/example0/results.png\">\n",
    "<img width=\"600\" height=\"300\" src=\"obstacles/example0/sigmas.png\">"
   ]
  },
  {
   "cell_type": "markdown",
   "metadata": {},
   "source": [
    "population_size = 100\n",
    "number_of_offsprings = 150\n",
    "d = 15\n",
    "iters = 50\n",
    "sigma = 0.5\n",
    "number_of_obstacles=10\n",
    "<center><video controls width=\"800\" height=\"400\" src=\"obstacles/example1/obstacle_kinematics.mp4\" /></center>\n",
    "<img width =\"600\" height=\"300\" src=\"obstacles/example1/results.png\">\n",
    "<img width=\"600\" height=\"300\" src=\"obstacles/example1/sigmas.png\">"
   ]
  },
  {
   "cell_type": "markdown",
   "metadata": {},
   "source": [
    "population_size = 100\n",
    "number_of_offsprings = 150\n",
    "d = 25\n",
    "iters = 100\n",
    "sigma = 0.5\n",
    "number_of_obstacles=15\n",
    "<center><video controls width=\"800\" height=\"400\" src=\"obstacles/example2/obstacle_kinematics.mp4\" /></center>\n",
    "<img width =\"600\" height=\"300\" src=\"obstacles/example2/results.png\">\n",
    "<img width=\"600\" height=\"300\" src=\"obstacles/example2/sigmas.png\">"
   ]
  },
  {
   "cell_type": "markdown",
   "metadata": {},
   "source": [
    "## Tree Arm"
   ]
  },
  {
   "cell_type": "markdown",
   "metadata": {},
   "source": [
    "population_size = 30\n",
    "number_of_offsprings = 50\n",
    "d = 10\n",
    "branches= 2\n",
    "iters = 60\n",
    "sigma = 0.5\n",
    "<center><video controls width=\"800\" height=\"400\" src=\"tree/example0/tree_kinematics.mp4\" /></center>\n",
    "<img width =\"600\" height=\"300\" src=\"tree/example0/results.png\">\n",
    "<img width=\"600\" height=\"300\" src=\"tree/example0/sigmas.png\">"
   ]
  },
  {
   "cell_type": "markdown",
   "metadata": {},
   "source": [
    "population_size = 80\n",
    "number_of_offsprings = 130\n",
    "d = 20\n",
    "branches= 3\n",
    "iters = 100\n",
    "sigma = 0.5\n",
    "<center><video controls width=\"800\" height=\"400\" src=\"tree/example1/tree_kinematics.mp4\" /></center>\n",
    "<img width =\"600\" height=\"300\" src=\"tree/example1/results.png\">\n",
    "<img width=\"600\" height=\"300\" src=\"tree/example1/sigmas.png\">"
   ]
  },
  {
   "cell_type": "markdown",
   "metadata": {},
   "source": [
    "population_size = 200\n",
    "number_of_offsprings = 300\n",
    "d = 50\n",
    "branches= 5\n",
    "iters = 150\n",
    "sigma = 0.5\n",
    "<center><video controls width=\"800\" height=\"400\" src=\"tree/example2/tree_kinematics.mp4\" /></center>\n",
    "<img width =\"600\" height=\"300\" src=\"tree/example2/results.png\">\n",
    "<img width=\"600\" height=\"300\" src=\"tree/example2/sigmas.png\">"
   ]
  },
  {
   "cell_type": "markdown",
   "metadata": {},
   "source": [
    "population_size = 200\n",
    "number_of_offsprings = 350\n",
    "d = 50\n",
    "branches= 5\n",
    "iters = 150\n",
    "sigma = 0.2\n",
    "<center><video controls width=\"800\" height=\"400\" src=\"tree/example3/tree_kinematics.mp4\" /></center>\n",
    "<img width =\"600\" height=\"300\" src=\"tree/example3/results.png\">\n",
    "<img width=\"600\" height=\"300\" src=\"tree/example3/sigmas.png\">"
   ]
  },
  {
   "cell_type": "code",
   "execution_count": null,
   "metadata": {},
   "outputs": [],
   "source": []
  }
 ],
 "metadata": {
  "kernelspec": {
   "display_name": "Python 2",
   "language": "python",
   "name": "python2"
  },
  "language_info": {
   "codemirror_mode": {
    "name": "ipython",
    "version": 2
   },
   "file_extension": ".py",
   "mimetype": "text/x-python",
   "name": "python",
   "nbconvert_exporter": "python",
   "pygments_lexer": "ipython2",
   "version": "2.7.12"
  }
 },
 "nbformat": 4,
 "nbformat_minor": 2
}
